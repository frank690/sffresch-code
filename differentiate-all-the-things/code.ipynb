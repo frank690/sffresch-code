{
 "cells": [
  {
   "cell_type": "code",
   "execution_count": 1,
   "id": "f1ce26a0",
   "metadata": {},
   "outputs": [],
   "source": [
    "import numpy as np\n",
    "from typing import Tuple\n",
    "\n",
    "def softmax_loss_log(W: np.ndarray, X: np.ndarray, y: np.ndarray) -> Tuple[float, np.ndarray]:\n",
    "    \"\"\"\n",
    "    A loss function consisting of a softmax layer that is fed into the log-loss.\n",
    "    Loss as well as the weight derivatives are returned.\n",
    "    \n",
    "    :param W: Weight matrix of shape (D x C)\n",
    "    :param X: Data matrix of shape (N X D)\n",
    "    :param y: Vector of labels (N x 1)\n",
    "    :return: Tuple of loss value and weight derivatives of shape (D x C).\n",
    "    \"\"\"\n",
    "    # Gather relevant sizes\n",
    "    N, _ = X.shape\n",
    "    \n",
    "    # Compute raw predictions. \n",
    "    # These values can range anywhere between (-inf, inf)\n",
    "    y_prediction = X @ W\n",
    "    \n",
    "    # Compute the softmax (predictions are now balanced and in range (0, 1))\n",
    "    y_prediction -= np.max(y_prediction, axis=1, keepdims=True)  # for numerical stability\n",
    "    S_nominator = np.exp(y_prediction)\n",
    "    S_denominator = np.exp(y_prediction).sum(axis=1, keepdims=True)\n",
    "    S = S_nominator / S_denominator\n",
    "    \n",
    "    # Compute the overall log loss\n",
    "    loss = -(1/N) * np.sum(\n",
    "        np.log(\n",
    "            S[np.arange(N), y]\n",
    "        )\n",
    "    )\n",
    "\n",
    "    # substract 1 from all predictions of ground truth class.\n",
    "    # this makes the following computation of dW uniform with all non-ground truth classes.\n",
    "    # (e.g. -X*(1-(S-1)) = X*S)\n",
    "    S[np.arange(N), y] -= 1 \n",
    "    \n",
    "    # compute the weight derivatives. \n",
    "    dW = (X.T @ S) / N  # divide by N because we compute via (D x N) * (N x C)\n",
    "\n",
    "    return loss, dW\n"
   ]
  },
  {
   "cell_type": "code",
   "execution_count": null,
   "id": "5492a787",
   "metadata": {},
   "outputs": [],
   "source": []
  }
 ],
 "metadata": {
  "kernelspec": {
   "display_name": "Python 3",
   "language": "python",
   "name": "python3"
  },
  "language_info": {
   "codemirror_mode": {
    "name": "ipython",
    "version": 3
   },
   "file_extension": ".py",
   "mimetype": "text/x-python",
   "name": "python",
   "nbconvert_exporter": "python",
   "pygments_lexer": "ipython3",
   "version": "3.9.7"
  }
 },
 "nbformat": 4,
 "nbformat_minor": 5
}
